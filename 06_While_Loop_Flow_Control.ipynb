{
  "nbformat": 4,
  "nbformat_minor": 0,
  "metadata": {
    "colab": {
      "name": "06_While_Loop-Flow_Control.ipynb",
      "provenance": [],
      "include_colab_link": true
    },
    "kernelspec": {
      "name": "python3",
      "display_name": "Python 3"
    },
    "language_info": {
      "name": "python"
    }
  },
  "cells": [
    {
      "cell_type": "markdown",
      "metadata": {
        "id": "view-in-github",
        "colab_type": "text"
      },
      "source": [
        "<a href=\"https://colab.research.google.com/github/Aravindswamy31/fmml2021/blob/main/06_While_Loop_Flow_Control.ipynb\" target=\"_parent\"><img src=\"https://colab.research.google.com/assets/colab-badge.svg\" alt=\"Open In Colab\"/></a>"
      ]
    },
    {
      "cell_type": "markdown",
      "metadata": {
        "id": "1_JLSdRkqi_5"
      },
      "source": [
        "#### WHILE-LOOP: The while loop executes as long as the condition remains true."
      ]
    },
    {
      "cell_type": "code",
      "metadata": {
        "id": "BWYbJYa5rlk5"
      },
      "source": [
        "#        while condition:\n",
        "#           statement-block"
      ],
      "execution_count": 1,
      "outputs": []
    },
    {
      "cell_type": "code",
      "metadata": {
        "id": "LP4gqudewbsi"
      },
      "source": [
        "i = 0"
      ],
      "execution_count": 2,
      "outputs": []
    },
    {
      "cell_type": "code",
      "metadata": {
        "id": "BPjFgz1-wgvK",
        "outputId": "9d3187e5-b479-417c-afd2-9bf2f9b6b484",
        "colab": {
          "base_uri": "https://localhost:8080/"
        }
      },
      "source": [
        "while (i < 10):\n",
        "   print (i, end=\" \")\n",
        "   i = i + 1"
      ],
      "execution_count": 3,
      "outputs": [
        {
          "output_type": "stream",
          "name": "stdout",
          "text": [
            "0 1 2 3 4 5 6 7 8 9 "
          ]
        }
      ]
    },
    {
      "cell_type": "code",
      "metadata": {
        "id": "3dnyj0WHwzaZ"
      },
      "source": [
        "# 1 1 2 3 5 8 13 "
      ],
      "execution_count": 4,
      "outputs": []
    },
    {
      "cell_type": "code",
      "metadata": {
        "id": "2entoj_sw-YV"
      },
      "source": [
        "a = b = 1"
      ],
      "execution_count": 5,
      "outputs": []
    },
    {
      "cell_type": "code",
      "metadata": {
        "id": "8ADO1xTtxAdK",
        "outputId": "6817f270-fef8-47da-bc4a-73b62daf45cc",
        "colab": {
          "base_uri": "https://localhost:8080/"
        }
      },
      "source": [
        "while (b < 10000):\n",
        "    print (a, b, end=\" \")\n",
        "    a = a + b\n",
        "    b = a + b"
      ],
      "execution_count": 6,
      "outputs": [
        {
          "output_type": "stream",
          "name": "stdout",
          "text": [
            "1 1 2 3 5 8 13 21 34 55 89 144 233 377 610 987 1597 2584 4181 6765 "
          ]
        }
      ]
    },
    {
      "cell_type": "code",
      "metadata": {
        "id": "GpU2tRwW4yLM"
      },
      "source": [
        "my_str = '***********'"
      ],
      "execution_count": 7,
      "outputs": []
    },
    {
      "cell_type": "code",
      "metadata": {
        "id": "ogXM0QWM44jO"
      },
      "source": [
        "str_len = len(my_str)"
      ],
      "execution_count": 8,
      "outputs": []
    },
    {
      "cell_type": "code",
      "metadata": {
        "id": "rjpLoZPy5GF3",
        "outputId": "42590d2f-3897-41de-b1f3-8a8212f6a574",
        "colab": {
          "base_uri": "https://localhost:8080/"
        }
      },
      "source": [
        "while (str_len > 0):\n",
        "   print (my_str[:str_len])\n",
        "   str_len = str_len - 1"
      ],
      "execution_count": 9,
      "outputs": [
        {
          "output_type": "stream",
          "name": "stdout",
          "text": [
            "***********\n",
            "**********\n",
            "*********\n",
            "********\n",
            "*******\n",
            "******\n",
            "*****\n",
            "****\n",
            "***\n",
            "**\n",
            "*\n"
          ]
        }
      ]
    },
    {
      "cell_type": "code",
      "metadata": {
        "id": "prvBHO7u7p-R"
      },
      "source": [
        "# Exercise to print the pattern in increasing order"
      ],
      "execution_count": null,
      "outputs": []
    },
    {
      "cell_type": "code",
      "metadata": {
        "id": "n88s9I-7FwM0"
      },
      "source": [
        "i = 0"
      ],
      "execution_count": 11,
      "outputs": []
    },
    {
      "cell_type": "code",
      "metadata": {
        "id": "Qx2WoUZAGH73"
      },
      "source": [
        "while (i < 10):\n",
        "  print (i , end=\" \")\n",
        "  i = i + 1"
      ],
      "execution_count": 10,
      "outputs": []
    },
    {
      "cell_type": "code",
      "metadata": {
        "id": "mBdREcr_GTKT"
      },
      "source": [
        " a = b = 1"
      ],
      "execution_count": 12,
      "outputs": []
    },
    {
      "cell_type": "code",
      "metadata": {
        "id": "DknrMRnrG1ul",
        "outputId": "a82c81c2-d60e-4d72-ef24-083766eb5d80",
        "colab": {
          "base_uri": "https://localhost:8080/"
        }
      },
      "source": [
        "while (b < 1000):\n",
        "  print (a, b, end=\" \")\n",
        "  a = a + b\n",
        "  b =  a + b"
      ],
      "execution_count": 13,
      "outputs": [
        {
          "output_type": "stream",
          "name": "stdout",
          "text": [
            "1 1 2 3 5 8 13 21 34 55 89 144 233 377 610 987 "
          ]
        }
      ]
    },
    {
      "cell_type": "code",
      "metadata": {
        "id": "9oGCuSZxHOzH"
      },
      "source": [
        "my_str = '***********'"
      ],
      "execution_count": 14,
      "outputs": []
    },
    {
      "cell_type": "code",
      "metadata": {
        "id": "EXRpaBeoHg_l"
      },
      "source": [
        "str_len = len(my_str)"
      ],
      "execution_count": 15,
      "outputs": []
    },
    {
      "cell_type": "code",
      "metadata": {
        "id": "MR5IEh7eHoly",
        "outputId": "6046111b-6689-47af-b7a5-9745d02b17fe",
        "colab": {
          "base_uri": "https://localhost:8080/"
        }
      },
      "source": [
        "while (str_len > 0):\n",
        "  print ( my_str[str_len:])\n",
        "  str_len = str_len - 1"
      ],
      "execution_count": 16,
      "outputs": [
        {
          "output_type": "stream",
          "name": "stdout",
          "text": [
            "\n",
            "*\n",
            "**\n",
            "***\n",
            "****\n",
            "*****\n",
            "******\n",
            "*******\n",
            "********\n",
            "*********\n",
            "**********\n"
          ]
        }
      ]
    },
    {
      "cell_type": "markdown",
      "metadata": {
        "id": "vgJ2P8AhGy-h"
      },
      "source": [
        ""
      ]
    },
    {
      "cell_type": "markdown",
      "metadata": {
        "id": "46ekX2N7F-gh"
      },
      "source": [
        ""
      ]
    }
  ]
}